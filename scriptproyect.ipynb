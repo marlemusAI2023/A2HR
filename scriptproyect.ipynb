import warnings

warnings.filterwarnings("ignore")
!pip install pandas numpy sweetviz seaborn matplotlib scikit-learn
